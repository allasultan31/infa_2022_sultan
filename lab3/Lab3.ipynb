{
 "cells": [
  {
   "cell_type": "markdown",
   "metadata": {},
   "source": [
    "## Упражнение 1\n",
    "\n",
    "В файле `melting.txt` приведены значения флуоресценции различных образцов в диапазоне температур от 28 до 95 градусов. Сами эти абсолютные значения не слишком интересуют исследователей: важнее форма кривых. Чтобы было удобнее сравнивать кривые между собой, отнормируйте их (минимальное значение - 0, максимальное - 1, промежуточное значение делится на разницу между максимальным и минимальным значением). Постройте графики получившихся кривых."
   ]
  },
  {
   "cell_type": "code",
   "execution_count": 24,
   "metadata": {},
   "outputs": [
    {
     "data": {
      "text/plain": [
       "<function matplotlib.pyplot.show(close=None, block=None)>"
      ]
     },
     "execution_count": 24,
     "metadata": {},
     "output_type": "execute_result"
    },
    {
     "data": {
      "image/png": "[encoded data removed]",
      "text/plain": [
       "<Figure size 432x288 with 1 Axes>"
      ]
     },
     "metadata": {
      "needs_background": "light"
     },
     "output_type": "display_data"
    }
   ],
   "source": [
    "import numpy as np \n",
    "import matplotlib.pyplot as plt\n",
    "\n",
    "def x(name):\n",
    "    file = open(name, 'r')\n",
    "    flag = True \n",
    "    x = []\n",
    "    for line in file:\n",
    "        if flag==False:\n",
    "            fl = line.split()\n",
    "            x.append(float(fl[0]))\n",
    "        flag=False\n",
    "    file.close()\n",
    "    return x\n",
    "\n",
    "def y(name):\n",
    "    file = open(name, 'r')\n",
    "    flag=True \n",
    "    y1 = []\n",
    "    y2 = []\n",
    "    y3 = []\n",
    "    y4 = []\n",
    "    y5 = []\n",
    "    for line in file:\n",
    "        if flag==False:\n",
    "            fl = line.split()\n",
    "            y1.append(float(fl[1]))\n",
    "            y2.append(float(fl[2]))\n",
    "            y3.append(float(fl[3]))\n",
    "            y4.append(float(fl[4]))\n",
    "            y5.append(float(fl[5]))\n",
    "        flag=False\n",
    "    file.close()\n",
    "    return y1, y2, y3, y4, y5\n",
    "\n",
    "x = x('melting.txt')\n",
    "y1, y2, y3, y4, y5 = y('melting.txt')\n",
    "\n",
    "def graph(value):\n",
    "    maximum = np.max(value)  \n",
    "    minimum = np.min(value)\n",
    "    change = maximum - minimum\n",
    "    a=np.argmax(value) \n",
    "    b=np.argmin(value)\n",
    "    value[a] = 1\n",
    "    value[b] = 0\n",
    "    for i in range(len(value)):\n",
    "        if i!=a and i!=b:\n",
    "            value[i] = (value[i] - minimum)/change\n",
    "    return value\n",
    "\n",
    "y_m = [y1, y2, y3, y4, y5]\n",
    "for i in range (len(y_m)):\n",
    "    value = np.array(y_m[i])\n",
    "    graph(value)\n",
    "    plt.plot(x, value, label = r'data ' + str(i+1))\n",
    "    plt.legend(loc='best', fontsize=13)\n",
    "             \n",
    "             \n",
    "plt.show"
   ]
  },
  {
   "cell_type": "markdown",
   "metadata": {},
   "source": [
    "## Упражнение 2\n",
    "\n",
    "Прочитайте файлы `ex2_1.txt` и `ex2_2.txt` в двумерный массив, вычислите среднее по каждому столбцу. Читая файлы, исходите из предположения, что количество столбцов в файле заранее неизвестно. Числа в строке разделены табуляцией."
   ]
  },
  {
   "cell_type": "code",
   "execution_count": 16,
   "metadata": {},
   "outputs": [
    {
     "name": "stdout",
     "output_type": "stream",
     "text": [
      "[50.35 58.65 50.55 45.35 57.4 ]\n",
      "[39.61111111 55.5        51.55555556 53.55555556 49.94444444 58.5       ]\n"
     ]
    }
   ],
   "source": [
    "import numpy as np\n",
    "\n",
    "ex1 = []\n",
    "file = open('ex2_1.txt', 'r')\n",
    "for line in file:\n",
    "    ex1.append([float(x) for x in line.split(\"\\t\")])\n",
    "\n",
    "ex2 = []\n",
    "file = open('ex2_2.txt', 'r')\n",
    "for line in file:\n",
    "    ex2.append([float(x) for x in line.split(\"\\t\")])\n",
    "\n",
    "ex2_1 = np.array(ex1)\n",
    "print(ex2_1.mean(axis=0))\n",
    "\n",
    "ex2_2 = np.array(ex2)\n",
    "print(ex2_2.mean(axis=0))"
   ]
  },
  {
   "cell_type": "markdown",
   "metadata": {},
   "source": [
    "## Упражнение 3\n",
    "\n",
    "Задан двумерный массив:\n",
    "\n",
    "```\n",
    "square = np.array([\n",
    "    [16, 3, 2, 13],\n",
    "    [5, 10, 11, 8],\n",
    "    [9, 6, 7, 12],\n",
    "    [4, 15, 14, 1]\n",
    "])\n",
    "```\n",
    "Вычислите сумму чисел в каждом столбце, в каждой строке, в каждом квадрате 2×2, который можно вырезать из имеющегося (5 шт). Выведите её на экран для каждого случая."
   ]
  },
  {
   "cell_type": "code",
   "execution_count": 20,
   "metadata": {},
   "outputs": [
    {
     "name": "stdout",
     "output_type": "stream",
     "text": [
      "суммa чисел в каждом строке =  [34 34 34 34]\n",
      "суммa чисел в каждой столбце =  [34 34 34 34]\n",
      "сумма чисел в левом верхнем углу =  34\n",
      "сумма чисел в правом верхнем  углу =  34\n",
      "сумма чисел в правом нижнем углу =  34\n",
      "сумма чисел в левом нижнем углу =  34\n",
      "сумма чисел посередине =  34\n"
     ]
    }
   ],
   "source": [
    "square = np.array([[16, 3, 2, 13], [5, 10, 11, 8], [9, 6, 7, 12], [4, 15, 14, 1]])\n",
    "\n",
    "print('суммa чисел в каждом строке = ', square.sum(axis = 1))\n",
    "print('суммa чисел в каждой столбце = ', square.sum(axis = 0))\n",
    "print('сумма чисел в левом верхнем углу = ', square[:2, :2].sum(axis = 1).sum(axis = 0)) #1\n",
    "print('сумма чисел в правом верхнем  углу = ', square[:2, 2:].sum(axis=1).sum(axis=0)) #2\n",
    "print('сумма чисел в правом нижнем углу = ', square[2:, 2:].sum(axis = 1).sum(axis = 0)) #3\n",
    "print('сумма чисел в левом нижнем углу = ', square[2:, :2].sum(axis = 1).sum(axis = 0)) #4\n",
    "print('сумма чисел посередине = ', square[1:3:, 1: 3:].sum(axis = 1).sum(axis = 0)) #5"
   ]
  },
  {
   "cell_type": "markdown",
   "metadata": {},
   "source": [
    "## Упражнение 4\n",
    "\n",
    "Вычислите среднее и стандартное отклонение чисел из файла ex4.txt, затем найдите выбросы (x < Q1 - 1.5 × IQR или x > Q3 + 1.5 × IQR и вычислите среднее и стандартное отклонение без них."
   ]
  },
  {
   "cell_type": "code",
   "execution_count": 23,
   "metadata": {},
   "outputs": [
    {
     "name": "stdout",
     "output_type": "stream",
     "text": [
      "среднее отклонение =  4382.08\n",
      "стандартное отклонение =  1816.365239041972\n",
      "среднее отклонение без выбросов =  5071.064814814815\n",
      "стандартное отклонение без выбросов =  572.7614601590126\n"
     ]
    }
   ],
   "source": [
    "import numpy as np\n",
    "\n",
    "numbers = []\n",
    "file = open('ex4.txt', 'r')\n",
    "for line in file:\n",
    "    numbers.append([float(x) for x in line.split()])\n",
    "\n",
    "print('среднее отклонение = ', str(np.mean(numbers)))\n",
    "print('стандартное отклонение = ', np.std(numbers))\n",
    "      \n",
    "numbers.sort()\n",
    "x = [i for i in np.quantile(numbers, [0.25, 0.5, 0.75])]\n",
    "numbers_d = []\n",
    "for i in numbers:\n",
    "    if i<(x[2] + 1.5 * (x[2] - x[0])) and i>(x[0] - 1.5 * (x[2] - x[0])):\n",
    "            numbers_d.append(i)\n",
    "                  \n",
    "print('среднее отклонение без выбросов = ', str(np.mean(numbers_d)))\n",
    "print('стандартное отклонение без выбросов = ', np.std(numbers_d))"
   ]
  }
 ],
 "metadata": {
  "kernelspec": {
   "display_name": "Python 3 (ipykernel)",
   "language": "python",
   "name": "python3"
  },
  "language_info": {
   "codemirror_mode": {
    "name": "ipython",
    "version": 3
   },
   "file_extension": ".py",
   "mimetype": "text/x-python",
   "name": "python",
   "nbconvert_exporter": "python",
   "pygments_lexer": "ipython3",
   "version": "3.10.4"
  }
 },
 "nbformat": 4,
 "nbformat_minor": 4
}
