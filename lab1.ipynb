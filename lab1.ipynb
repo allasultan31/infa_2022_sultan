{
 "cells": [
  {
   "cell_type": "markdown",
   "metadata": {},
   "source": [
    "# Определения\n",
    "\n",
    "**Случайная величина** — переменная, значения которой представляют исходы некоторого эксперимента. Её значение неизвестно до эксперимента, однако может быть известно распределение.\n",
    "\n",
    "**Наблюдения** — записанные данные о значениях случайной переменной.\n",
    "\n",
    "## Типы переменных\n",
    "\n",
    "<span style=\"color:green\">**Качественные переменные**</span>\n",
    "\n",
    "**Номинальные переменные** показывают принадлежность к какому-либо классу; ничего об отношениях классов сказать нельзя. Пример — номера на футболках спортсменов, цвет глаз дрозофил.\n",
    "\n",
    "**Порядковые (ординальные, ранговые) переменные** показывают степень проявления какого-либо свойства и могут быть упорядочены. Пример — оценка качества обслуживания.\n",
    "\n",
    "<span style=\"color:green\">**Количественные переменные**</span>\n",
    "\n",
    "**Интервальные переменные** позволяют не только упорядочивать объекты измерения, но и численно выразить и сравнить разности значений переменных. Пример — градусы Цельсия.\n",
    "\n",
    "**Относительные переменные** позволяют численно выражать и сравнивать отношения переменных. Пример — градусы Кельвина, масса"
   ]
  },
  {
   "cell_type": "markdown",
   "metadata": {},
   "source": [
    "# Способы описания данных\n",
    "\n",
    "## Численные\n",
    "\n",
    "### Номинальные переменные\n",
    "\n",
    "**Таблица**\n",
    "\n",
    "|Статус|Пероральное введение|Внутривенное введение|Нет введения|\n",
    "|------|--------------------|---------------------|------------|\n",
    "|Живые |7|5|3|\n",
    "|Мёртвые|3|7|12|\n",
    "\n",
    "**Натуральные числа по числу классов**\n",
    "\n",
    "|Образец №|Жив?|\n",
    "|---|---|\n",
    "|1|1|\n",
    "|7|0|\n",
    "|13|1|\n",
    "\n",
    "**Вектор из 0 и 1**\n",
    "\n",
    "Дни недели\n",
    "- Понедельник (1, 0, 0, 0, 0, 0)\n",
    "- Вторник (0, 1, 0, 0, 0, 0)\n",
    "- Среда (0, 0, 1, 0, 0, 0)\n",
    "- Четверг (0, 0, 0, 1, 0, 0)\n",
    "- Пятница (0, 0, 0, 0, 1, 0)\n",
    "- Суббота (0, 0, 0, 0, 0, 1)\n",
    "- Воскресенье (0, 0, 0, 0, 0, 0)\n",
    "\n",
    "### Количественные переменные\n",
    "\n",
    "**Меры центра**\n",
    "\n",
    "- Среднее *x<sub>mean</sub>*=(*x*<sub>1</sub>+*x*<sub>2</sub>+...+*x*<sub>*n*</sub>)/n\n",
    "- Медиана\n",
    "<img src=\"median.png\" width=400/>"
   ]
  },
  {
   "cell_type": "markdown",
   "metadata": {},
   "source": [
    "## Упражнение 1\n",
    "\n",
    "Напишите функцию, которая возвращает медиану непустого упорядоченного списка, и продемонстрируйте её корректность её работы"
   ]
  },
  {
   "cell_type": "code",
   "execution_count": 117,
   "metadata": {},
   "outputs": [
    {
     "name": "stdout",
     "output_type": "stream",
     "text": [
      "6.0\n"
     ]
    }
   ],
   "source": [
    "import numpy as np\n",
    "data = [1, 6, 9]\n",
    "x = np.median(data)\n",
    "print(x)"
   ]
  },
  {
   "cell_type": "markdown",
   "metadata": {},
   "source": [
    "**Меры разброса**\n",
    "\n",
    "- несмещённая дисперсия и среднеквадратичное отклонение\n",
    "<img src=\"dispersion.png\" width=200>\n",
    "- межквартильный размах\n",
    "<img src=\"iq.png\" width=400>"
   ]
  },
  {
   "cell_type": "markdown",
   "metadata": {},
   "source": [
    "## Упражнение 2\n",
    "Напишите функцию, которая печатает среднеквадратичное отклонение и межквартильный размах непустого упорядоченного списка, и продемонстрируйте её корректность её работы"
   ]
  },
  {
   "cell_type": "code",
   "execution_count": 131,
   "metadata": {},
   "outputs": [
    {
     "name": "stdout",
     "output_type": "stream",
     "text": [
      "значение Q3: 30.0\n",
      "значение sigma: 181.89310047387724\n"
     ]
    }
   ],
   "source": [
    "import numpy as np\n",
    "data = [1, 2, 3, 4, 453, 32]\n",
    "c = len(data)\n",
    "if c%2 == 0:\n",
    "    x = data[0: c//2]\n",
    "    Q1 = np.median(x)\n",
    "    y = data[c//2: ]\n",
    "    Q2 = np.median(y)\n",
    "else:\n",
    "    m = np.median(data)\n",
    "    k = data.index(m)\n",
    "    x = data[0: k]\n",
    "    Q1 = np.median(x)\n",
    "    y = data[k+1: ]\n",
    "    Q2 = np.median(y)\n",
    "\n",
    "Q3 = Q2-Q1\n",
    "\n",
    "\n",
    "#среднеквадратичное отклонение\n",
    "s = sum(data)/c #среднее\n",
    "f = 0\n",
    "for i in data:\n",
    "    f += (i - s) ** 2 #сумма\n",
    "    D = f/(c-1)\n",
    "    \n",
    "sigma = D**0.5\n",
    "\n",
    "print(\"значение Q3:\", Q3) #межквартильный размах \n",
    "print(\"значение sigma:\", sigma) #среднеквадратичное отклонение"
   ]
  },
  {
   "cell_type": "markdown",
   "metadata": {},
   "source": [
    "## Графические методы\n",
    "\n",
    "### Номинальные переменные\n",
    "\n",
    "- Столбчатая диаграмма"
   ]
  },
  {
   "cell_type": "code",
   "execution_count": 26,
   "metadata": {},
   "outputs": [
    {
     "data": {
      "image/png": "[encoded data removed]",
      "text/plain": [
       "<Figure size 432x288 with 1 Axes>"
      ]
     },
     "metadata": {
      "needs_background": "light"
     },
     "output_type": "display_data"
    }
   ],
   "source": [
    "import matplotlib.pyplot as plt\n",
    "colors = ['purple', 'green', 'cyan']\n",
    "labels = ['фиолетовые', 'зелёные', 'голубые']\n",
    "x = [1, 2, 3]\n",
    "y = [37, 75, 94]\n",
    "plt.bar(x, y, color=colors, edgecolor='k', tick_label=labels)\n",
    "plt.grid(True, axis='y')"
   ]
  },
  {
   "cell_type": "markdown",
   "metadata": {},
   "source": [
    "- Круговая диаграмма"
   ]
  },
  {
   "cell_type": "code",
   "execution_count": 12,
   "metadata": {},
   "outputs": [
    {
     "data": {
      "image/png": "[encoded data removed]",
      "text/plain": [
       "<Figure size 432x288 with 1 Axes>"
      ]
     },
     "metadata": {},
     "output_type": "display_data"
    }
   ],
   "source": [
    "data = [33, 25, 20, 12, 10]\n",
    "plt.title('Название', size=14)\n",
    "plt.pie(data, labels=('Класс 1', 'Класс 2', 'Класс 3', 'Класс 4', 'Класс 5'))\n",
    "plt.show()"
   ]
  },
  {
   "cell_type": "markdown",
   "metadata": {},
   "source": [
    "## Упражнение 3\n",
    "\n",
    "В президентских выборах участвовало 5 кандидатов: А., Б., В., Г., Д. Социологическая служба провела опрос за месяц до выборов, за неделю до выборов и экзит-полл.\n",
    "\n",
    "|Опрос|А. |Б. |В. |Г. |Д. |\n",
    "|-----|---|---|---|---|---|\n",
    "|#1   | 16| 18| 20| 22| 24|\n",
    "|#2   | 20| 20| 18| 22| 20|\n",
    "|#3   | 24| 22| 20| 18| 16|\n",
    "\n",
    "Постройте круговые и столбчатые диаграммы результатов опросов. В комментариях к коду напишите, какие диаграммы показались Вам более наглядными."
   ]
  },
  {
   "cell_type": "code",
   "execution_count": 76,
   "metadata": {},
   "outputs": [
    {
     "data": {
      "image/png": "[encoded data removed]",
      "text/plain": [
       "<Figure size 432x288 with 6 Axes>"
      ]
     },
     "metadata": {
      "needs_background": "light"
     },
     "output_type": "display_data"
    }
   ],
   "source": [
    "import matplotlib.pyplot as plt\n",
    "\n",
    "#subplot1\n",
    "sp = plt.subplot(331)\n",
    "plt.title(r'$опрос 1$')\n",
    "colors = ['pink', 'powderblue', 'yellow', 'palegreen', 'rosybrown']\n",
    "labels = ['А', 'Б', 'В', 'Г', 'Д']\n",
    "x = [1, 2, 3, 4, 5]\n",
    "y = [16, 18, 20, 22, 24]\n",
    "plt.bar(x, y, color=colors, edgecolor='k', tick_label=labels)\n",
    "plt.grid(True, axis='y')\n",
    "\n",
    "#subplot2\n",
    "sp = plt.subplot(332)\n",
    "plt.title(r'$опрос 2$')\n",
    "colors = ['pink', 'powderblue', 'yellow', 'palegreen', 'rosybrown']\n",
    "labels = ['А', 'Б', 'В', 'Г', 'Д']\n",
    "x = [1, 2, 3, 4, 5]\n",
    "y = [20, 20, 18, 22, 20]\n",
    "plt.bar(x, y, color=colors, edgecolor='k', tick_label=labels)\n",
    "plt.grid(True, axis='y')\n",
    "\n",
    "#subplot3\n",
    "sp = plt.subplot(333)\n",
    "plt.title(r'$опрос 3$')\n",
    "colors = ['pink', 'powderblue', 'yellow', 'palegreen', 'rosybrown']\n",
    "labels = ['А', 'Б', 'В', 'Г', 'Д']\n",
    "x = [1, 2, 3, 4, 5]\n",
    "y = [24, 22, 20, 18, 16]\n",
    "plt.bar(x, y, color=colors, edgecolor='k', tick_label=labels)\n",
    "plt.grid(True, axis='y')\n",
    "\n",
    "\n",
    "#subplot4\n",
    "sp = plt.subplot(337)\n",
    "data = [16, 18, 20, 22, 24]\n",
    "plt.title('опрос 1', size=18)\n",
    "plt.pie(data, labels=('А', 'Б', 'В', 'Г', 'Д'))\n",
    "\n",
    "#subplot5\n",
    "sp = plt.subplot(338)\n",
    "data = [20, 20, 18, 22, 20]\n",
    "plt.title('опрос 2', size=18)\n",
    "plt.pie(data, labels=('А', 'Б', 'В', 'Г', 'Д'))\n",
    "\n",
    "#subplot6\n",
    "sp = plt.subplot(339)\n",
    "data = [24, 22, 20, 18, 16]\n",
    "plt.title('опрос 3', size=18)\n",
    "plt.pie(data, labels=('А', 'Б', 'В', 'Г', 'Д'))\n",
    "\n",
    "\n",
    "plt.show()"
   ]
  }
 ],
 "metadata": {
  "kernelspec": {
   "display_name": "Python 3 (ipykernel)",
   "language": "python",
   "name": "python3"
  },
  "language_info": {
   "codemirror_mode": {
    "name": "ipython",
    "version": 3
   },
   "file_extension": ".py",
   "mimetype": "text/x-python",
   "name": "python",
   "nbconvert_exporter": "python",
   "pygments_lexer": "ipython3",
   "version": "3.8.11"
  }
 },
 "nbformat": 4,
 "nbformat_minor": 4
}
