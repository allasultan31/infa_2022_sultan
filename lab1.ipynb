{
 "cells": [
  {
   "cell_type": "markdown",
   "metadata": {},
   "source": [
    "## Упражнение 1\n",
    "\n",
    "Напишите функцию, которая возвращает медиану непустого упорядоченного списка, и продемонстрируйте её корректность её работы"
   ]
  },
  {
   "cell_type": "code",
   "execution_count": null,
   "metadata": {},
   "outputs": [],
   "source": [
    "import numpy as np\n",
    "data = [1, 6, 9]\n",
    "x = np.median(data)\n",
    "print(x)"
   ]
  },
  {
   "cell_type": "markdown",
   "metadata": {},
   "source": [
    "## Упражнение 2\n",
    "Напишите функцию, которая печатает среднеквадратичное отклонение и межквартильный размах непустого упорядоченного списка, и продемонстрируйте её корректность её работы"
   ]
  },
  {
   "cell_type": "code",
   "execution_count": null,
   "metadata": {},
   "outputs": [],
   "source": [
    "import numpy as np\n",
    "data = [1, 2, 3, 4, 453, 32]\n",
    "c = len(data)\n",
    "if c%2 == 0:\n",
    "    x = data[0: c//2]\n",
    "    Q1 = np.median(x)\n",
    "    y = data[c//2: ]\n",
    "    Q2 = np.median(y)\n",
    "else:\n",
    "    m = np.median(data)\n",
    "    k = data.index(m)\n",
    "    x = data[0: k]\n",
    "    Q1 = np.median(x)\n",
    "    y = data[k+1: ]\n",
    "    Q2 = np.median(y)\n",
    "\n",
    "Q3 = Q2-Q1\n",
    "\n",
    "\n",
    "#среднеквадратичное отклонение\n",
    "s = sum(data)/c #среднее\n",
    "f = 0\n",
    "for i in data:\n",
    "    f += (i - s) ** 2 #сумма\n",
    "    D = f/(c-1)\n",
    "    \n",
    "sigma = D**0.5\n",
    "\n",
    "print(\"значение Q3:\", Q3) #межквартильный размах \n",
    "print(\"значение sigma:\", sigma) #среднеквадратичное отклонение"
   ]
  },
  {
   "cell_type": "markdown",
   "metadata": {},
   "source": [
    "## Упражнение 3\n",
    "\n",
    "В президентских выборах участвовало 5 кандидатов: А., Б., В., Г., Д. Социологическая служба провела опрос за месяц до выборов, за неделю до выборов и экзит-полл.\n",
    "\n",
    "|Опрос|А. |Б. |В. |Г. |Д. |\n",
    "|-----|---|---|---|---|---|\n",
    "|#1   | 16| 18| 20| 22| 24|\n",
    "|#2   | 20| 20| 18| 22| 20|\n",
    "|#3   | 24| 22| 20| 18| 16|\n",
    "\n",
    "Постройте круговые и столбчатые диаграммы результатов опросов. В комментариях к коду напишите, какие диаграммы показались Вам более наглядными."
   ]
  },
  {
   "cell_type": "code",
   "execution_count": 10,
   "metadata": {},
   "outputs": [
    {
     "name": "stdout",
     "output_type": "stream",
     "text": [
      "вывод: столбчатая диаграмма, по моему мнению, получилась нагляднее, так как в ней видны примерные числовые значения, а в круговой диаграмме части получились почти идентичными, что затрудняет понимание результатов опросов\n"
     ]
    },
    {
     "data": {
      "image/png": "[encoded data removed]",
      "text/plain": [
       "<Figure size 432x288 with 6 Axes>"
      ]
     },
     "metadata": {
      "needs_background": "light"
     },
     "output_type": "display_data"
    }
   ],
   "source": [
    "import matplotlib.pyplot as plt\n",
    "\n",
    "#subplot1\n",
    "sp = plt.subplot(331)\n",
    "plt.title(r'$опрос 1$')\n",
    "colors = ['blue', 'purple', 'red', 'green', 'orange']\n",
    "labels = ['А', 'Б', 'В', 'Г', 'Д']\n",
    "x = [1, 2, 3, 4, 5]\n",
    "y = [16, 18, 20, 22, 24]\n",
    "plt.bar(x, y, color=colors, edgecolor='k', tick_label=labels)\n",
    "plt.grid(True, axis='y')\n",
    "\n",
    "#subplot2\n",
    "sp = plt.subplot(332)\n",
    "plt.title(r'$опрос 2$')\n",
    "colors = ['blue', 'purple', 'red', 'green', 'orange']\n",
    "labels = ['А', 'Б', 'В', 'Г', 'Д']\n",
    "x = [1, 2, 3, 4, 5]\n",
    "y = [20, 20, 18, 22, 20]\n",
    "plt.bar(x, y, color=colors, edgecolor='k', tick_label=labels)\n",
    "plt.grid(True, axis='y')\n",
    "\n",
    "#subplot3\n",
    "sp = plt.subplot(333)\n",
    "plt.title(r'$опрос 3$')\n",
    "colors = ['blue', 'purple', 'red', 'green', 'orange']\n",
    "labels = ['А', 'Б', 'В', 'Г', 'Д']\n",
    "x = [1, 2, 3, 4, 5]\n",
    "y = [24, 22, 20, 18, 16]\n",
    "plt.bar(x, y, color=colors, edgecolor='k', tick_label=labels)\n",
    "plt.grid(True, axis='y')\n",
    "\n",
    "\n",
    "#subplot4\n",
    "sp = plt.subplot(337)\n",
    "data = [16, 18, 20, 22, 24]\n",
    "plt.title('опрос 1', size=18)\n",
    "plt.pie(data, labels=('А', 'Б', 'В', 'Г', 'Д'))\n",
    "\n",
    "#subplot5\n",
    "sp = plt.subplot(338)\n",
    "data = [20, 20, 18, 22, 20]\n",
    "plt.title('опрос 2', size=18)\n",
    "plt.pie(data, labels=('А', 'Б', 'В', 'Г', 'Д'))\n",
    "\n",
    "#subplot6\n",
    "sp = plt.subplot(339)\n",
    "data = [24, 22, 20, 18, 16]\n",
    "plt.title('опрос 3', size=18)\n",
    "plt.pie(data, labels=('А', 'Б', 'В', 'Г', 'Д'))\n",
    "\n",
    "print('вывод: столбчатая диаграмма, по моему мнению, получилась нагляднее, так как в ней видны примерные числовые значения, а в круговой диаграмме части получились почти идентичными, что затрудняет понимание результатов опросов')\n",
    "plt.show()"
   ]
  },
  {
   "cell_type": "code",
   "execution_count": null,
   "metadata": {},
   "outputs": [],
   "source": []
  }
 ],
 "metadata": {
  "kernelspec": {
   "display_name": "Python 3 (ipykernel)",
   "language": "python",
   "name": "python3"
  },
  "language_info": {
   "codemirror_mode": {
    "name": "ipython",
    "version": 3
   },
   "file_extension": ".py",
   "mimetype": "text/x-python",
   "name": "python",
   "nbconvert_exporter": "python",
   "pygments_lexer": "ipython3",
   "version": "3.10.2"
  }
 },
 "nbformat": 4,
 "nbformat_minor": 4
}
