{
 "cells": [
  {
   "cell_type": "markdown",
   "metadata": {},
   "source": [
    "## Упражнение 1\n",
    "\n",
    "В файлах `wild_type.txt` и `mutant.txt` находятся данные по флуоресценции клеток, экспрессирующих обычную и мутантную формы белка, соответственно, в зависимости от концентрации лиганда (вещества, которое взаимодействует с белком). Продемонстрируйте данные на графике. Столбцы разделены табуляцией - `\\t`. Разрешается (и приветствуется) просмотр исходных файлов."
   ]
  },
  {
   "cell_type": "code",
   "execution_count": 6,
   "metadata": {},
   "outputs": [
    {
     "name": "stdout",
     "output_type": "stream",
     "text": [
      "wild_type is opened successfully\n",
      "mutant is opened successfully\n"
     ]
    },
    {
     "data": {
      "image/png": "[encoded data removed]",
      "text/plain": [
       "<Figure size 504x504 with 1 Axes>"
      ]
     },
     "metadata": {
      "needs_background": "light"
     },
     "output_type": "display_data"
    }
   ],
   "source": [
    "import numpy as np\n",
    "import matplotlib.pyplot as plt\n",
    "plt.figure(figsize=(7, 7))\n",
    "\n",
    "\n",
    "file1 = open(\"wild_type.txt\",\"r\")     \n",
    "if file1:    \n",
    "    print(\"wild_type is opened successfully\")\n",
    "aList = []  \n",
    "bList = []    \n",
    "title = file1.readline().split(\"\\t\")\n",
    "while True:\n",
    "    aLine = file1.readline() \n",
    "    if not aLine: \n",
    "        break \n",
    "    l = aLine.split(\"\\t\") \n",
    "    x1 = float(l[0]) \n",
    "    y1 = float(l[1]) \n",
    "    aList.append(x1) \n",
    "    bList.append(y1) \n",
    "file1.close() \n",
    "\n",
    "file2 = open(\"mutant.txt\",\"r\")     \n",
    "if file2:    \n",
    "    print(\"mutant is opened successfully\")\n",
    "cList = []  \n",
    "dList = []  \n",
    "title = file2.readline().split(\"\\t\")\n",
    "while True:  \n",
    "    aLine = file2.readline() \n",
    "    if not aLine:  \n",
    "        break \n",
    "    l = aLine.split(\"\\t\") \n",
    "    x2 = float(l[0]) \n",
    "    y2 = float(l[1]) \n",
    "    cList.append(x2)\n",
    "    dList.append(y2) \n",
    "file2.close() \n",
    "\n",
    "sp1 = plt.subplot(111)\n",
    "sp1.scatter(aList, bList, label='wild type') #рисуются  отдельные точки\n",
    "sp1.scatter(cList, dList, label= 'mutant')\n",
    "plt.legend(loc='best', fontsize=14)\n",
    "plt.xlabel(title[0]) \n",
    "plt.ylabel(title[1])\n",
    "\n",
    "plt.show ()"
   ]
  },
  {
   "cell_type": "markdown",
   "metadata": {},
   "source": [
    "## Упражнение 2\n",
    "\n",
    "В файле `chromo.txt` находится хроматограмма - сигнал детектора в зависимости от времени. Продемонстрируйте данные на графике. Столбцы разделены табуляцией - `\\t`. Разрешается (и приветствуется) просмотр исходных файлов."
   ]
  },
  {
   "cell_type": "code",
   "execution_count": 5,
   "metadata": {},
   "outputs": [
    {
     "name": "stdout",
     "output_type": "stream",
     "text": [
      "file is opened successfully\n"
     ]
    },
    {
     "data": {
      "image/png": "[encoded data removed]",
      "text/plain": [
       "<Figure size 432x288 with 1 Axes>"
      ]
     },
     "metadata": {
      "needs_background": "light"
     },
     "output_type": "display_data"
    }
   ],
   "source": [
    "import matplotlib.pyplot as plt;\n",
    "\n",
    "#Открытие файла\n",
    "file = open(\"Chromo.txt\",\"r\")     \n",
    "if file:    \n",
    "    print(\"file is opened successfully\")\n",
    "xList = []  #Открытие списка переменных оси X\n",
    "yList = []  #Открытие списка переменных оси Y  \n",
    "title = file.readline().split(\"\\t\")  #Читаем 1 стоку файла с наименованием осей и переводим в двумерный массив, используя разделитель \\t \n",
    "while True:  #Цикл чтения строк из файла\n",
    "    aLine = file.readline() #читаем строку\n",
    "    if not aLine:  #конец файла\n",
    "        break #выходим из цикла\n",
    "    l = aLine.split(\"\\t\") #делим строку на переменные используя разделитель \\t \n",
    "    x = float(l[0]) #переменная X\n",
    "    y = float(l[1]) #переменная Y\n",
    "    xList.append(x) #добавляем к списку X\n",
    "    yList.append(y) #добавляем к списку Y\n",
    "file.close() \n",
    "\n",
    "plt.plot(xList, yList) #задаём переменные для графика  \n",
    "plt.title('Chromo')\n",
    "plt.xlabel(title[0]) \n",
    "plt.ylabel(title[1])\n",
    "\n",
    "plt.show() "
   ]
  },
  {
   "cell_type": "markdown",
   "metadata": {},
   "source": [
    "## Упражнение 3\n",
    "\n",
    "Напишите функцию, которая определяет коэффициент корреляции. Посчитайте с её помощью коэффициент корреляции для данных, показанных в примере для точечного графика (3 набора), а также из упражнения 1 (2 набора)"
   ]
  },
  {
   "cell_type": "code",
   "execution_count": 3,
   "metadata": {},
   "outputs": [
    {
     "name": "stdout",
     "output_type": "stream",
     "text": [
      "случай 1 = -0.9117025433725147 \n",
      "случай 2 = 0.05084107233251676 \n",
      "случай 3 = 0.2163606564759683\n",
      "wild_type.txt is opened successfully\n",
      "wild_type = -0.4069458455729012\n",
      "mutant.txt is opened successfully\n",
      "mutant = -0.19653678303553646\n"
     ]
    }
   ],
   "source": [
    "import numpy as np;\n",
    "import math;\n",
    "\n",
    "#Функция вычисление коэффициента корреляции\n",
    "#x - массив значений, X; y - массив значений, Y\n",
    "\n",
    "def calc_corr(x, y):\n",
    "    x_avg = sum(x)/len(x) #среднее значение\n",
    "    y_avg = sum(y)/len(y) \n",
    "  \n",
    "    #Вычислить числитель, ковариация —— согласно формуле ковариации изначально необходимо было делить на n\n",
    "    #Поскольку n одновременно уменьшается в коэффициенте корреляции, нет необходимости делить на n\n",
    "    cov_xy = sum([(x - x_avg)*(y - y_avg) for x,y in zip(x, y)]) #где zip(x, y) функция парной итерации\n",
    "  \n",
    "    #Вычислить знаменатель, произведение дисперсии - дисперсию следует разделить на n\n",
    "    #В коэффициенте корреляции n одновременно уменьшается\n",
    "    sD = math.sqrt(sum([(d - x_avg)**2 for d in x])*sum([(d - y_avg)**2 for d in y]))\n",
    "  \n",
    "    corr_factor = cov_xy/sD\n",
    "  \n",
    "    return corr_factor\n",
    "  \n",
    "\n",
    "#набор данных для случая 1 \n",
    "x1 = np.array([1, 2, 3, 4, 5])\n",
    "y1 = np.array([0.99, 0.49, 0.35, 0.253, 0.18])\n",
    "\n",
    "#набор данных для случая 2 \n",
    "x2 = np.random.rand(100) \n",
    "y2 = np.random.rand(100)\n",
    "\n",
    "#набор данных для случая 3 \n",
    "data = 10 * np.random.rand(100) \n",
    "x3 = np.sort(data)              \n",
    "epsilon3 = np.random.rand(100)  \n",
    "y3 = (x3-5)**2 / 10 + epsilon3 - 0.5\n",
    "\n",
    "corr_1 = calc_corr(x1, y1)\n",
    "corr_2 = calc_corr(x2, y2)\n",
    "corr_3 = calc_corr(x3, y3)\n",
    "\n",
    "print(\"случай 1 =\", corr_1, \"\\nслучай 2 =\", corr_2, \"\\nслучай 3 =\", corr_3)\n",
    "\n",
    "#Открытие файла wild_type.txt\n",
    "file = open(\"wild_type.txt\",\"r\")     \n",
    "if file:    \n",
    "    print(\"wild_type.txt is opened successfully\")\n",
    "xList = []  #Открытие списка переменных оси X\n",
    "yList = []  #Открытие списка переменных оси Y  \n",
    "file.readline() #Пропускаем 1 стоку файла с наименованием\n",
    "while True:  #Цикл чтения строк из файла\n",
    "    aLine = file.readline() #читаем строку\n",
    "    if not aLine:  \n",
    "        break \n",
    "    l = aLine.split(\"\\t\") \n",
    "    x = float(l[0])\n",
    "    y = float(l[1])\n",
    "    xList.append(x) \n",
    "    yList.append(y) \n",
    "file.close()\n",
    "\n",
    "corr_wilde = calc_corr(xList, yList)\n",
    "\n",
    "print(\"wild_type =\", corr_wilde)\n",
    "\n",
    "#Открытие файла mutant.txt\n",
    "file = open(\"mutant.txt\",\"r\")     \n",
    "if file:    \n",
    "    print(\"mutant.txt is opened successfully\")\n",
    "xList = []  \n",
    "yList = []  \n",
    "file.readline() \n",
    "while True: \n",
    "    aLine = file.readline() \n",
    "    if not aLine: \n",
    "        break \n",
    "    l = aLine.split(\"\\t\") \n",
    "    x = float(l[0])\n",
    "    y = float(l[1]) \n",
    "    xList.append(x) \n",
    "    yList.append(y)\n",
    "file.close() \n",
    "\n",
    "corr_mutant = calc_corr(xList, yList)\n",
    "\n",
    "print(\"mutant =\", corr_mutant)"
   ]
  },
  {
   "cell_type": "code",
   "execution_count": null,
   "metadata": {},
   "outputs": [],
   "source": []
  }
 ],
 "metadata": {
  "kernelspec": {
   "display_name": "Python 3 (ipykernel)",
   "language": "python",
   "name": "python3"
  },
  "language_info": {
   "codemirror_mode": {
    "name": "ipython",
    "version": 3
   },
   "file_extension": ".py",
   "mimetype": "text/x-python",
   "name": "python",
   "nbconvert_exporter": "python",
   "pygments_lexer": "ipython3",
   "version": "3.10.2"
  }
 },
 "nbformat": 4,
 "nbformat_minor": 4
}
