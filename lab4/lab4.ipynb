{
 "cells": [
  {
   "cell_type": "markdown",
   "metadata": {},
   "source": [
    "## Упражение 1\n",
    "\n",
    "Создайте квадратный массив (размером больше 2), отсортируйте его столбцы, получите транспонированный массив (от отсортированного), объедините эти массивы вертикально, горизонтально и без оси (выведите на экран результат для каждого действия)."
   ]
  },
  {
   "cell_type": "code",
   "execution_count": 9,
   "metadata": {},
   "outputs": [
    {
     "name": "stdout",
     "output_type": "stream",
     "text": [
      "отсортированные столбцы:  \n",
      " [[ 6  0  2]\n",
      " [ 7 31  3]\n",
      " [84 91 18]]\n",
      "транспонированный массив:  \n",
      " [[ 6  7 84]\n",
      " [ 0 31 91]\n",
      " [ 2  3 18]]\n",
      "вертикальное объединение:  \n",
      " [[ 6  0  2]\n",
      " [ 7 31  3]\n",
      " [84 91 18]\n",
      " [ 6  7 84]\n",
      " [ 0 31 91]\n",
      " [ 2  3 18]]\n",
      "горизонтальное объединение:  \n",
      " [[ 6  0  2  6  7 84]\n",
      " [ 7 31  3  0 31 91]\n",
      " [84 91 18  2  3 18]]\n",
      "ось 0:  \n",
      " [[ 6  0  2]\n",
      " [ 7 31  3]\n",
      " [84 91 18]\n",
      " [ 6  7 84]\n",
      " [ 0 31 91]\n",
      " [ 2  3 18]]\n"
     ]
    }
   ],
   "source": [
    "import numpy as np\n",
    "\n",
    "data = np.array([[7, 31, 18], \n",
    "                 [84, 0, 2], \n",
    "                 [6, 91, 3]])\n",
    "\n",
    "a1 = np.sort(data, axis=0)\n",
    "a2 = a1.T\n",
    "a3 = np.vstack((a1, a2))\n",
    "a4 = np.hstack((a1, a2))\n",
    "a5 = np.concatenate((a1, a2))\n",
    "\n",
    "print('отсортированные столбцы: ', '\\n', a1)\n",
    "print('транспонированный массив: ', '\\n', a2)\n",
    "print('вертикальное объединение: ', '\\n', a3)\n",
    "print('горизонтальное объединение: ', '\\n', a4)\n",
    "print('ось 0: ', '\\n', a5)"
   ]
  },
  {
   "cell_type": "markdown",
   "metadata": {},
   "source": [
    "## Упражнение 2\n",
    "\n",
    "Напишите функцию, которая превращает список целых чисел (тип `list`) в `np.array`, занимающий наименьшую память, если известно, что данные, находящиеся в исходном списке - это:\n",
    "- количество людей в каждом городе России;\n",
    "- температура в градусах Цельсия, измеренная в разных хранилищах лаборатории (инкубатор для клеток млекопитающих, шкаф, холодильник, морозилка, кельвинатор -80℃)\n",
    "- оценки 1 курса ФБМФ за письменный экзамен по матанализу."
   ]
  },
  {
   "cell_type": "code",
   "execution_count": 8,
   "metadata": {},
   "outputs": [
    {
     "name": "stdout",
     "output_type": "stream",
     "text": [
      "[11920000  4991000   838321    90485]\n",
      "[-40 -79 -66 -80]\n",
      "[ 2  5  6 10]\n"
     ]
    }
   ],
   "source": [
    "import numpy as np;\n",
    "\n",
    "# В списках данные хранятся в 64-битном виде\n",
    "\n",
    "citizensList = [11920000, 4991000, 838321, 90485] #Москва, С-Петербург, Саратов, В. Луки\n",
    "tempList = [-40, -79, -66, -80]                   #температура\n",
    "gradeList = [2, 5, 6, 10]                         #оценки\n",
    "\n",
    "citizensArray = np.array(citizensList, dtype=np.int32);  #преобразование списка в массив из 32 бит - max 4294967295\n",
    "print(citizensArray)\n",
    "\n",
    "tempArray = np.array(tempList, dtype=np.byte);     #преобразование списка в массив из 1 байта (8 бит)  -128 до 127   \n",
    "print(tempArray)\n",
    "\n",
    "gradeArray = np.array(gradeList, dtype=np.byte);   #преобразование списка в массив из 1 байта (8 бит)  -128 до 127\n",
    "print(gradeArray)\n"
   ]
  },
  {
   "cell_type": "markdown",
   "metadata": {},
   "source": [
    "## Упражнение 3\n",
    "\n",
    "Прочитайте данные из файла `Cell_culture.txt` о количестве суспензионной культуры, заказанной сотрудниками и студентами лаборатории на определённые даты, в структурированный массив. Выведите на экран:\n",
    "- суммарное количество культуры, заказанной на 5 апреля;\n",
    "- имена студентов и сотрудников, которые заказали культуру на 9 апреля"
   ]
  },
  {
   "cell_type": "code",
   "execution_count": 11,
   "metadata": {},
   "outputs": [
    {
     "name": "stdout",
     "output_type": "stream",
     "text": [
      "[  3  40 300]   Cуммарное количество культуры =  343\n",
      "Имена студентов и сотрудников :  ['Dasha' 'Liza']\n"
     ]
    }
   ],
   "source": [
    "import numpy as np;\n",
    "\n",
    "#genfromtxt - загружает данные из текстового файла с указанием правил обработки\n",
    "#delimiter='\\t' - разделитель полей\n",
    "#names=True использовать названия полей из файла : Date    Name    Volume    Comment\n",
    "#dtype=['U8','U8','<i8','S10'] - формат данных U8 - Unicode, i8 - Integer, S10 - String\n",
    "#контрольная распечатка массива данных:\n",
    "#cellArray = np.genfromtxt('Cell_culture.txt', delimiter='\\t', names=True, dtype=['U8','U8','<i8','S10'])\n",
    "#print(cellArray)  \n",
    "\n",
    "#Выбор столбца Volume всех значений от 5 апреля в столбце Date\n",
    "vals = cellArray[cellArray[\"Date\"] == \"5-Apr\"][\"Volume\"]\n",
    "total = np.sum(vals)\n",
    "print(vals, \"  Cуммарное количество культуры = \", total)\n",
    "\n",
    "#Имена студентов и сотрудников из столбца Name, которые заказали культуру на 9 апреля в столбце Date\n",
    "names = cellArray[cellArray[\"Date\"] == \"9-Apr\"][\"Name\"]\n",
    "print(\"Имена студентов и сотрудников : \", names)"
   ]
  },
  {
   "cell_type": "code",
   "execution_count": null,
   "metadata": {},
   "outputs": [],
   "source": []
  }
 ],
 "metadata": {
  "kernelspec": {
   "display_name": "Python 3 (ipykernel)",
   "language": "python",
   "name": "python3"
  },
  "language_info": {
   "codemirror_mode": {
    "name": "ipython",
    "version": 3
   },
   "file_extension": ".py",
   "mimetype": "text/x-python",
   "name": "python",
   "nbconvert_exporter": "python",
   "pygments_lexer": "ipython3",
   "version": "3.10.2"
  }
 },
 "nbformat": 4,
 "nbformat_minor": 4
}
